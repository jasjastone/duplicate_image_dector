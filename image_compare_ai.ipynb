{
  "nbformat": 4,
  "nbformat_minor": 0,
  "metadata": {
    "colab": {
      "provenance": [],
      "authorship_tag": "ABX9TyMZTGSps3Ozve9ZlbVoAg0R",
      "include_colab_link": true
    },
    "kernelspec": {
      "name": "python3",
      "display_name": "Python 3"
    },
    "language_info": {
      "name": "python"
    }
  },
  "cells": [
    {
      "cell_type": "markdown",
      "metadata": {
        "id": "view-in-github",
        "colab_type": "text"
      },
      "source": [
        "<a href=\"https://colab.research.google.com/github/jasjastone/duplicate_image_dector/blob/main/image_compare_ai.ipynb\" target=\"_parent\"><img src=\"https://colab.research.google.com/assets/colab-badge.svg\" alt=\"Open In Colab\"/></a>"
      ]
    },
    {
      "cell_type": "code",
      "execution_count": null,
      "metadata": {
        "id": "1AQkkj7sL0VT"
      },
      "outputs": [],
      "source": [
        "import os\n",
        "import numpy as np\n",
        "import cv2\n",
        "from sklearn.metrics.pairwise import cosine_similarity\n",
        "import pickle\n",
        "import json"
      ]
    },
    {
      "cell_type": "code",
      "source": [
        "def extract_color_histogram(image_path, bins=(8, 8, 8)):\n",
        "    image = cv2.imread(image_path)\n",
        "    image = cv2.cvtColor(image, cv2.COLOR_BGR2RGB)\n",
        "    hist = cv2.calcHist([image], [0, 1, 2], None, bins, [0, 256, 0, 256, 0, 256])\n",
        "    cv2.normalize(hist, hist)\n",
        "    return hist.flatten()\n"
      ],
      "metadata": {
        "id": "5FnKjIvcMT39"
      },
      "execution_count": null,
      "outputs": []
    },
    {
      "cell_type": "code",
      "source": [
        "# Directory containing your images\n",
        "image_dir = '/content/dataset/known_images/class1'\n",
        "\n",
        "# Dictionary to store image features\n",
        "features_dict = {}\n",
        "\n",
        "for img_name in os.listdir(image_dir):\n",
        "    img_path = os.path.join(image_dir, img_name)\n",
        "    # Ensure the file is an image\n",
        "    if img_name.lower().endswith(('.png', '.jpg', '.jpeg', '.bmp', '.tiff')):\n",
        "        features = extract_color_histogram(img_path)\n",
        "        features_dict[img_name] = features\n",
        "\n",
        "# Save the features to a file\n",
        "with open('image_features.pkl', 'wb') as f:\n",
        "    pickle.dump(features_dict, f)"
      ],
      "metadata": {
        "id": "Z0_IfnJOxRiA"
      },
      "execution_count": null,
      "outputs": []
    },
    {
      "cell_type": "code",
      "source": [
        "def is_image_known(new_img_path, features_dict, threshold=0.8):\n",
        "    new_features = extract_color_histogram(new_img_path)\n",
        "    for img_name, stored_features in features_dict.items():\n",
        "        similarity = cosine_similarity([new_features], [stored_features])[0][0]\n",
        "        if similarity >= threshold:\n",
        "            return True, img_name, similarity\n",
        "    return False, None, None\n",
        "with open('image_features.pkl', 'rb') as f:\n",
        "    features_dict = pickle.load(f)"
      ],
      "metadata": {
        "id": "uGLhzNCXzoaD"
      },
      "execution_count": null,
      "outputs": []
    },
    {
      "cell_type": "code",
      "source": [
        "new_image_path = '/content/dataset/known_images/class2/1664430467865.jpg'\n",
        "known, img_name, similarity = is_image_known(new_image_path, features_dict)\n",
        "\n",
        "result = {\n",
        "    'known': known,\n",
        "    'img_name': img_name,\n",
        "    'similarity': similarity\n",
        "}\n",
        "\n",
        "print(json.dumps(result))\n"
      ],
      "metadata": {
        "colab": {
          "base_uri": "https://localhost:8080/"
        },
        "id": "PtX3zRI0zwF0",
        "outputId": "e509cdfe-6ac1-4f26-9427-a73c39b099f8"
      },
      "execution_count": null,
      "outputs": [
        {
          "output_type": "stream",
          "name": "stdout",
          "text": [
            "{\"known\": false, \"img_name\": null, \"similarity\": null}\n"
          ]
        }
      ]
    },
    {
      "cell_type": "markdown",
      "source": [
        "This can be used on a laravel or php back-end to check if the image are the same when uploading.\n",
        "\n",
        "// routes/web.php\n",
        "Route::post('/check-image', [ImageController::class, 'checkImage']);\n",
        "\n",
        "// app/Http/Controllers/ImageController.php\n",
        "namespace App\\Http\\Controllers;\n",
        "\n",
        "use Illuminate\\Http\\Request;\n",
        "use Illuminate\\Support\\Facades\\Storage;\n",
        "\n",
        "class ImageController extends Controller\n",
        "{\n",
        "    public function checkImage(Request $request)\n",
        "    {\n",
        "        // Validate the request to ensure an image file is provided\n",
        "        $request->validate([\n",
        "            'image' => 'required|image',\n",
        "        ]);\n",
        "\n",
        "        // Store the uploaded image temporarily\n",
        "        $image = $request->file('image');\n",
        "        $imagePath = $image->storeAs('temp_images', $image->getClientOriginalName());\n",
        "\n",
        "        // Define the command to execute the Python script\n",
        "        $pythonScript = '/path/to/your_script.py';\n",
        "        $command = escapeshellcmd(\"python3 $pythonScript \" . storage_path('app/' . $imagePath));\n",
        "\n",
        "        // Execute the command and capture the output\n",
        "        $output = shell_exec($command);\n",
        "\n",
        "        // Decode the JSON output\n",
        "        $result = json_decode($output, true);\n",
        "\n",
        "        // Check if the image is known and return the appropriate response\n",
        "        if ($result['known']) {\n",
        "            return response()->json([\n",
        "                'message' => 'The image is already known.',\n",
        "                'matched_image' => $result['img_name'],\n",
        "                'similarity' => $result['similarity']\n",
        "            ]);\n",
        "        } else {\n",
        "            return response()->json(['message' => 'The image is not known.']);\n",
        "        }\n",
        "    }\n",
        "}\n"
      ],
      "metadata": {
        "id": "oJ0nmC9f7qu2"
      }
    }
  ]
}
